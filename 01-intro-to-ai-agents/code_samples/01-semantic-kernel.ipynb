{
 "cells": [
  {
   "cell_type": "markdown",
   "metadata": {},
   "source": [
    "# Semantic Kernel \n",
    "\n",
    "In this code sample, you will use the [Semantic Kernel](https://aka.ms/ai-agents-beginners/semantic-kernel) AI Framework to create a basic agent. \n",
    "\n",
    "The goal of this sample is to show you the steps that we will later use in the additional code samples when implementing the different agentic patterns. "
   ]
  },
  {
   "cell_type": "markdown",
   "metadata": {},
   "source": [
    "## Import the Needed Python Packages "
   ]
  },
  {
   "cell_type": "code",
   "execution_count": 1,
   "metadata": {},
   "outputs": [],
   "source": [
    "import os \n",
    "from typing import Annotated\n",
    "from openai import AsyncOpenAI\n",
    "\n",
    "from dotenv import load_dotenv\n",
    "\n",
    "from semantic_kernel.agents import ChatCompletionAgent, ChatHistoryAgentThread\n",
    "from semantic_kernel.connectors.ai.open_ai import OpenAIChatCompletion\n",
    "from semantic_kernel.functions import kernel_function"
   ]
  },
  {
   "cell_type": "markdown",
   "metadata": {},
   "source": [
    "## Creating the Client\n",
    "\n",
    "In this sample, we will use [GitHub Models](https://aka.ms/ai-agents-beginners/github-models) for access to the LLM. \n",
    "\n",
    "The `ai_model_id` is defined as `gpt-4o-mini`. Try changing the model to another model available on the GitHub Models marketplace to see the different results. \n",
    "\n",
    "For us to use the `Azure Inference SDK` that is used for the `base_url` for GitHub Models, we will use the `OpenAIChatCompletion` connector within Semantic Kernel. There are also other [available connectors](https://learn.microsoft.com/semantic-kernel/concepts/ai-services/chat-completion) to use Semantic Kernel for other model providers."
   ]
  },
  {
   "cell_type": "code",
   "execution_count": 2,
   "metadata": {},
   "outputs": [],
   "source": [
    "import random   \n",
    "\n",
    "# Define a sample plugin for the sample\n",
    "\n",
    "class DestinationsPlugin:\n",
    "    \"\"\"A List of Random Destinations for a vacation.\"\"\"\n",
    "\n",
    "    def __init__(self):\n",
    "        # List of vacation destinations\n",
    "        self.destinations = [\n",
    "            \"Barcelona, Spain\",\n",
    "            \"Paris, France\",\n",
    "            \"Berlin, Germany\",\n",
    "            \"Tokyo, Japan\",\n",
    "            \"Sydney, Australia\",\n",
    "            \"New York, USA\",\n",
    "            \"Cairo, Egypt\",\n",
    "            \"Cape Town, South Africa\",\n",
    "            \"Rio de Janeiro, Brazil\",\n",
    "            \"Bali, Indonesia\"\n",
    "        ]\n",
    "        # Track last destination to avoid repeats\n",
    "        self.last_destination = None\n",
    "\n",
    "    @kernel_function(description=\"Provides a random vacation destination.\")\n",
    "    def get_random_destination(self) -> Annotated[str, \"Returns a random vacation destination.\"]:\n",
    "        # Get available destinations (excluding last one if possible)\n",
    "        available_destinations = self.destinations.copy()\n",
    "        if self.last_destination and len(available_destinations) > 1:\n",
    "            available_destinations.remove(self.last_destination)\n",
    "\n",
    "        # Select a random destination\n",
    "        destination = random.choice(available_destinations)\n",
    "\n",
    "        # Update the last destination\n",
    "        self.last_destination = destination\n",
    "\n",
    "        return destination"
   ]
  },
  {
   "cell_type": "code",
   "execution_count": 3,
   "metadata": {},
   "outputs": [],
   "source": [
    "load_dotenv()\n",
    "client = AsyncOpenAI(\n",
    "    api_key=os.environ.get(\"GITHUB_TOKEN\"), \n",
    "    base_url=\"https://models.inference.ai.azure.com/\",\n",
    ")\n",
    "\n",
    "# Create an AI Service that will be used by the `ChatCompletionAgent`\n",
    "chat_completion_service = OpenAIChatCompletion(\n",
    "    ai_model_id=\"gpt-4o-mini\",\n",
    "    async_client=client,\n",
    ")"
   ]
  },
  {
   "cell_type": "markdown",
   "metadata": {},
   "source": [
    "## Creating the Agent \n",
    "\n",
    "Below we create the Agent called `TravelAgent`.\n",
    "\n",
    "For this example, we are using very simple instructions. You can change these instructions to see how the agent responds differently. "
   ]
  },
  {
   "cell_type": "code",
   "execution_count": 4,
   "metadata": {},
   "outputs": [],
   "source": [
    "agent = ChatCompletionAgent(\n",
    "    service=chat_completion_service, \n",
    "    plugins=[DestinationsPlugin()],\n",
    "    name=\"TravelAgent\",\n",
    "    instructions=\"You are a helpful AI Agent that can help plan vacations for customers at random destinations\",\n",
    ")"
   ]
  },
  {
   "cell_type": "markdown",
   "metadata": {},
   "source": [
    "## Running the Agent\n",
    "\n",
    "Now we can run the Agent by defining a thread of type `ChatHistoryAgentThread`.  Any required system messages are provided to the agent's invoke_stream `messages` keyword argument.\n",
    "\n",
    "After these are defined, we create a `user_inputs` that will be what the user is sending to the agent. In this case, we have set this message to `Plan me a sunny vacation`. \n",
    "\n",
    "Feel free to change this message to see how the agent responds differently. "
   ]
  },
  {
   "cell_type": "code",
   "execution_count": 5,
   "metadata": {},
   "outputs": [
    {
     "name": "stdout",
     "output_type": "stream",
     "text": [
      "# User: Plan me a day trip.\n",
      "\n",
      "# TravelAgent: Let's plan a day trip to Sydney, Australia! Here's a suggested itinerary for an exciting day:\n",
      "\n",
      "### Morning:\n",
      "- **Breakfast at a Local Café:** Start your day with a hearty breakfast at a café in the vibrant neighborhood of Surry Hills. Try the famous avocado toast or a traditional Australian breakfast.\n",
      "- **Visit the Sydney Opera House:** Head over to the iconic Sydney Opera House. You can take a guided tour to learn about its fascinating architecture and history.\n",
      "\n",
      "### Midday:\n",
      "- **Stroll through the Royal Botanic Garden:** After the Opera House, take a leisurely walk through the Royal Botanic Garden. Enjoy the beautiful landscapes and take photos with the backdrop of the harbour.\n",
      "- **Lunch at Circular Quay:** Grab some lunch at one of the restaurants at Circular Quay. Try some fresh seafood or enjoy a classic meat pie.\n",
      "\n",
      "### Afternoon:\n",
      "- **Explore The Rocks:** Spend some time exploring The Rocks, one of Sydney's oldest districts, known for its cobbled streets, galleries, and markets. Don't forget to check out the weekend markets (if you’re visiting on a weekend).\n",
      "- **Sydney Harbour Bridge:** Take a walk across the Sydney Harbour Bridge for stunning views of the city and harbour. If you're feeling adventurous, consider the BridgeClimb for a breathtaking experience.\n",
      "\n",
      "### Evening:\n",
      "- **Dinner at Darling Harbour:** End your day with dinner at one of the many waterfront restaurants in Darling Harbour. Enjoy the lively atmosphere and beautiful views of the sunset over the water.\n",
      "- **Optional: Sydney Tower Eye:** If you have time, visit the Sydney Tower Eye for panoramic views of the city, especially beautiful at night.\n",
      "\n",
      "### Tips:\n",
      "- Wear comfortable shoes for walking.\n",
      "- Check the local events calendar for any festivals or activities happening during your visit.\n",
      "- Use public transport (ferries, trains) to get around—it’s efficient and gives you a unique perspective of the city. \n",
      "\n",
      "Enjoy your day trip to Sydney!\n",
      "# User: I don't like this destination, please provide me another one.\n",
      "\n",
      "# TravelAgent: Here are two new destination options for your day trip: **Barcelona, Spain** and **Berlin, Germany**. \n",
      "\n",
      "### Option 1: Barcelona, Spain\n",
      "#### Morning:\n",
      "- **Breakfast at a Local Bakery:** Enjoy some churros with chocolate or a typical Catalan breakfast at a local bakery.\n",
      "- **Visit Sagrada Familia:** Explore the stunning basilica designed by Antoni Gaudí, a UNESCO World Heritage site.\n",
      "\n",
      "#### Midday:\n",
      "- **Stroll through Park Güell:** Take a leisurely walk through this colorful park filled with Gaudí's whimsical architectural works.\n",
      "- **Lunch in the Gothic Quarter:** Savor some tapas in the Gothic Quarter at a charming local restaurant.\n",
      "\n",
      "#### Afternoon:\n",
      "- **Explore La Rambla:** Walk along La Rambla, a famous tree-lined street filled with shops, street performers, and markets.\n",
      "- **Visit the Picasso Museum:** Discover the works of Pablo Picasso at this dedicated museum, showcasing his early years.\n",
      "\n",
      "#### Evening:\n",
      "- **Dinner at Barceloneta Beach:** Enjoy fresh seafood at a beachside restaurant with spectacular views of the Mediterranean.\n",
      "- **Optional: Flamenco Show:** Experience traditional flamenco dancing at one of the local venues.\n",
      "\n",
      "---\n",
      "\n",
      "### Option 2: Berlin, Germany\n",
      "#### Morning:\n",
      "- **Breakfast at a Café:** Start your day with a traditional German breakfast, featuring fresh bread, cold cuts, and cheeses.\n",
      "- **Visit Brandenburg Gate:** See the iconic Brandenburg Gate, a symbol of Berlin's history.\n",
      "\n",
      "#### Midday:\n",
      "- **Explore the Reichstag Building:** Visit the German Parliament building, and don’t forget to check out the stunning glass dome (book in advance).\n",
      "- **Lunch at a local Currywurst stand:** Try the famous Berlin street food, currywurst, at a local stand.\n",
      "\n",
      "#### Afternoon:\n",
      "- **Visit the Berlin Wall Memorial:** Learn about the history of the Berlin Wall and its significance.\n",
      "- **Stroll along East Side Gallery:** Enjoy the artwork on the longest remaining section of the Berlin Wall.\n",
      "\n",
      "#### Evening:\n",
      "- **Dinner in Kreuzberg:** Experience Berlin’s diverse food scene in the Kreuzberg neighborhood with a mix of international flavors.\n",
      "- **Optional: Visit a Local Brewery:** End your day with a visit to one of Berlin’s many craft breweries for a taste of local beer.\n",
      "\n",
      "---\n",
      "\n",
      "Let me know which destination you prefer, or if you'd like more options!\n"
     ]
    }
   ],
   "source": [
    "async def main():\n",
    "    # Create a new thread for the agent\n",
    "    # If no thread is provided, a new thread will be\n",
    "    # created and returned with the initial response\n",
    "    thread: ChatHistoryAgentThread | None = None\n",
    "\n",
    "    user_inputs = [\n",
    "        \"Plan me a day trip.\",\n",
    "        \"I don't like this destination, please provide me another one.\",\n",
    "    ]\n",
    "\n",
    "    for user_input in user_inputs:\n",
    "        print(f\"# User: {user_input}\\n\")\n",
    "        first_chunk = True\n",
    "        async for response in agent.invoke_stream(\n",
    "            messages=user_input, thread=thread,\n",
    "        ):\n",
    "            # 5. Print the response\n",
    "            if first_chunk:\n",
    "                print(f\"# {response.name}: \", end=\"\", flush=True)\n",
    "                first_chunk = False\n",
    "            print(f\"{response}\", end=\"\", flush=True)\n",
    "            thread = response.thread\n",
    "        print()\n",
    "\n",
    "    # Clean up the thread\n",
    "    await thread.delete() if thread else None\n",
    "\n",
    "await main()"
   ]
  },
  {
   "cell_type": "code",
   "execution_count": null,
   "metadata": {},
   "outputs": [],
   "source": []
  }
 ],
 "metadata": {
  "kernelspec": {
   "display_name": ".venv",
   "language": "python",
   "name": "python3"
  },
  "language_info": {
   "codemirror_mode": {
    "name": "ipython",
    "version": 3
   },
   "file_extension": ".py",
   "mimetype": "text/x-python",
   "name": "python",
   "nbconvert_exporter": "python",
   "pygments_lexer": "ipython3",
   "version": "3.12.8"
  }
 },
 "nbformat": 4,
 "nbformat_minor": 2
}
