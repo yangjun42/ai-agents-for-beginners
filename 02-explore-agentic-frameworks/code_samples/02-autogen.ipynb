{
 "cells": [
  {
   "cell_type": "markdown",
   "metadata": {},
   "source": [
    "# AutoGen Basic Sample \n",
    "\n",
    "In this code sample, you will use the [AutoGen](https://aka.ms/ai-agents/autogen) AI Framework to create a basic agent. \n",
    "\n",
    "The goal of this sample is to show you the steps that we will later use in the additional code samples when implementing the different agentic patterns. "
   ]
  },
  {
   "cell_type": "markdown",
   "metadata": {},
   "source": [
    "## Import the Needed Python Packages "
   ]
  },
  {
   "cell_type": "code",
   "execution_count": 7,
   "metadata": {},
   "outputs": [],
   "source": [
    "import os\n",
    "from dotenv import load_dotenv\n",
    "\n",
    "from autogen_agentchat.agents import AssistantAgent\n",
    "from autogen_core.models import UserMessage\n",
    "from autogen_ext.models.azure import AzureAIChatCompletionClient\n",
    "from azure.core.credentials import AzureKeyCredential\n",
    "from autogen_core import CancellationToken\n",
    "\n",
    "from autogen_agentchat.messages import TextMessage\n"
   ]
  },
  {
   "cell_type": "markdown",
   "metadata": {},
   "source": [
    "## Create the Client \n",
    "\n",
    "In this sample, we will use [GitHub Models](https://aka.ms/ai-agents-beginners/github-models) for access to the LLM. \n",
    "\n",
    "The `model` is defined as `gpt-4o-mini`. Try changing the model to another model available on the GitHub Models marketplace to see the different results. \n",
    "\n",
    "As a quick test, we will just run a simple prompt - `What is the capital of France`. "
   ]
  },
  {
   "cell_type": "code",
   "execution_count": 8,
   "metadata": {},
   "outputs": [
    {
     "name": "stdout",
     "output_type": "stream",
     "text": [
      "finish_reason='stop' content='The capital of France is Paris.' usage=RequestUsage(prompt_tokens=14, completion_tokens=8) cached=False logprobs=None thought=None\n"
     ]
    }
   ],
   "source": [
    "load_dotenv()\n",
    "client = AzureAIChatCompletionClient(\n",
    "    model=\"gpt-4o-mini\",\n",
    "    endpoint=\"https://models.inference.ai.azure.com\",\n",
    "    # To authenticate with the model you will need to generate a personal access token (PAT) in your GitHub settings.\n",
    "    # Create your PAT token by following instructions here: https://docs.github.com/en/authentication/keeping-your-account-and-data-secure/managing-your-personal-access-tokens\n",
    "    credential=AzureKeyCredential(os.getenv(\"GITHUB_TOKEN\")),\n",
    "    model_info={\n",
    "        \"json_output\": True,\n",
    "        \"function_calling\": True,\n",
    "        \"vision\": True,\n",
    "        \"family\": \"unknown\",\n",
    "    },\n",
    ")\n",
    "\n",
    "result = await client.create([UserMessage(content=\"What is the capital of France?\", source=\"user\")])\n",
    "print(result)"
   ]
  },
  {
   "cell_type": "markdown",
   "metadata": {},
   "source": [
    "## Defining the Agent \n",
    "\n",
    "Now that we have set up the `client` and confirmed that it is working, let us create an `AssistantAgent`. Each agent can be assigned a: \n",
    "**name** - A short hand name that will be useful in referencing it in multi-agent flows. \n",
    "**model_client** - The client that you created in the earlier step. \n",
    "**tools** - Available tools that the Agent can use to complete a task.\n",
    "**system_message** - The metaprompt that defines the task, behavior and tone of the LLM. \n",
    "\n",
    "You can change the system message to see how the LLM responds. We will cover `tools` in Lesson #4. \n"
   ]
  },
  {
   "cell_type": "code",
   "execution_count": 9,
   "metadata": {},
   "outputs": [],
   "source": [
    "agent = AssistantAgent(\n",
    "    name=\"assistant\",\n",
    "    model_client=client,\n",
    "    tools=[],\n",
    "    system_message=\"You are a travel agent that plans great vacations\",\n",
    ")"
   ]
  },
  {
   "cell_type": "markdown",
   "metadata": {},
   "source": [
    "## Run the Agent \n",
    "\n",
    "The below function will run the agent. We use the the `on_message` method to update the Agent's state with the new message. \n",
    "\n",
    "In this case, we update the state with a new message from the user which is `\"Plan me a great sunny vacation\"`.\n",
    "\n",
    "You can change the message content to see how the LLM responds differently. "
   ]
  },
  {
   "cell_type": "code",
   "execution_count": 10,
   "metadata": {},
   "outputs": [
    {
     "data": {
      "text/html": [
       "<div style='margin-bottom:10px'><div style='font-weight:bold'>User:</div><div style='margin-left:20px'>Plan me a great sunny vacation</div></div><div style='margin-bottom:20px'><div style='font-weight:bold'>Assistant:</div><div style='margin-left:20px; white-space:pre-wrap'>Sure! To plan the perfect sunny vacation, I need a bit more information about your preferences. However, I can suggest a general itinerary for a sunny vacation destination. Here's a recommendation:\n",
       "\n",
       "### Destination: Maui, Hawaii\n",
       "\n",
       "#### Duration: 7 Days\n",
       "\n",
       "### Itinerary:\n",
       "\n",
       "**Day 1: Arrival in Maui**\n",
       "- Check into your beachfront resort in Kaanapali or Wailea.\n",
       "- Relax and unwind after your flight.\n",
       "- Enjoy a sunset dinner at a beachfront restaurant.\n",
       "\n",
       "**Day 2: Exploring the Road to Hana**\n",
       "- Rent a car for the day.\n",
       "- Drive along the scenic Road to Hana; stop at waterfalls (like Twin Falls), black sand beaches (like Waianapanapa), and charming local stands for fresh fruit and banana bread.\n",
       "- Visit Akihia State Park and hike the Pipiwai Trail to see Waimoku Falls.\n",
       "\n",
       "**Day 3: Snorkeling at Molokini Crater**\n",
       "- Book a snorkeling tour to Molokini Crater, a marine protected area with vibrant coral reefs.\n",
       "- Spend the day swimming and snorkeling with tropical fish.\n",
       "- Enjoy lunch on board your tour boat.\n",
       "\n",
       "**Day 4: Upcountry Maui**\n",
       "- Visit the charming town of Makawao, known for its art galleries and boutiques.\n",
       "- Explore the stunning landscapes of Haleakalā National Park. Consider catching the sunrise at the summit for breathtaking views.\n",
       "- Enjoy a local wine tasting at a nearby winery.\n",
       "\n",
       "**Day 5: Beach Day and Luau**\n",
       "- Spend the day lounging on the soft, sandy beaches of Kaanapali or Wailea.\n",
       "- Consider trying stand-up paddleboarding or kayaking.\n",
       "- In the evening, attend a traditional Hawaiian luau for dinner and cultural performances.\n",
       "\n",
       "**Day 6: Adventure Day**\n",
       "- Book a zip-lining tour through lush landscapes or a helicopter tour for a bird’s-eye view of the island.\n",
       "- Alternatively, enjoy ocean activities like surfing lessons or a sunset sail.\n",
       "\n",
       "**Day 7: Relax and Departure**\n",
       "- Have a leisurely breakfast at your resort.\n",
       "- Spend any remaining time shopping for souvenirs or relaxing at the beach.\n",
       "- Head to the airport for your departure.\n",
       "\n",
       "### Additional Tips:\n",
       "- **Best Time to Visit:** April to June and September to November for ideal weather and fewer crowds.\n",
       "- **Accommodation:** Look for resorts with complimentary beach amenities such as chairs, umbrellas, and water sports equipment.\n",
       "- **Transportation:** Renting a vehicle is perfect for exploring the island at your own pace.\n",
       "\n",
       "If you have specific preferences, like budget, activities, or other destinations in mind, feel free to share, and I can customize the plan further!</div></div>"
      ],
      "text/plain": [
       "<IPython.core.display.HTML object>"
      ]
     },
     "metadata": {},
     "output_type": "display_data"
    }
   ],
   "source": [
    "from IPython.display import display, HTML\n",
    "\n",
    "\n",
    "async def assistant_run():\n",
    "    # Define the query\n",
    "    user_query = \"Plan me a great sunny vacation\"\n",
    "\n",
    "    # Start building HTML output\n",
    "    html_output = \"<div style='margin-bottom:10px'>\"\n",
    "    html_output += \"<div style='font-weight:bold'>User:</div>\"\n",
    "    html_output += f\"<div style='margin-left:20px'>{user_query}</div>\"\n",
    "    html_output += \"</div>\"\n",
    "\n",
    "    # Execute the agent response\n",
    "    response = await agent.on_messages(\n",
    "        [TextMessage(content=user_query, source=\"user\")],\n",
    "        cancellation_token=CancellationToken(),\n",
    "    )\n",
    "\n",
    "    # Add agent response to HTML\n",
    "    html_output += \"<div style='margin-bottom:20px'>\"\n",
    "    html_output += \"<div style='font-weight:bold'>Assistant:</div>\"\n",
    "    html_output += f\"<div style='margin-left:20px; white-space:pre-wrap'>{response.chat_message.content}</div>\"\n",
    "    html_output += \"</div>\"\n",
    "\n",
    "    # Display formatted HTML\n",
    "    display(HTML(html_output))\n",
    "\n",
    "# Run the function\n",
    "await assistant_run()"
   ]
  },
  {
   "cell_type": "code",
   "execution_count": null,
   "metadata": {},
   "outputs": [],
   "source": []
  }
 ],
 "metadata": {
  "kernelspec": {
   "display_name": ".venv",
   "language": "python",
   "name": "python3"
  },
  "language_info": {
   "codemirror_mode": {
    "name": "ipython",
    "version": 3
   },
   "file_extension": ".py",
   "mimetype": "text/x-python",
   "name": "python",
   "nbconvert_exporter": "python",
   "pygments_lexer": "ipython3",
   "version": "3.12.8"
  }
 },
 "nbformat": 4,
 "nbformat_minor": 2
}
