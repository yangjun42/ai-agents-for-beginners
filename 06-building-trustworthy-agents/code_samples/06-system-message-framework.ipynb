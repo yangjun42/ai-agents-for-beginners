{
 "cells": [
  {
   "cell_type": "code",
   "execution_count": 1,
   "metadata": {},
   "outputs": [],
   "source": [
    "import os\n",
    "from azure.ai.inference import ChatCompletionsClient\n",
    "from azure.ai.inference.models import SystemMessage, UserMessage\n",
    "from azure.core.credentials import AzureKeyCredential\n",
    "\n",
    "from dotenv import load_dotenv\n",
    "load_dotenv()\n",
    "\n",
    "\n",
    "token = os.environ[\"GITHUB_TOKEN\"]\n",
    "endpoint = \"https://models.inference.ai.azure.com\""
   ]
  },
  {
   "cell_type": "code",
   "execution_count": 2,
   "metadata": {},
   "outputs": [],
   "source": [
    "model_name = os.environ[\"AZURE_OPENAI_CHAT_DEPLOYMENT_NAME\"]\n",
    "\n",
    "client = ChatCompletionsClient(\n",
    "    endpoint=endpoint,\n",
    "    credential=AzureKeyCredential(token),\n",
    ")"
   ]
  },
  {
   "cell_type": "code",
   "execution_count": 3,
   "metadata": {},
   "outputs": [],
   "source": [
    "role = \"travel agent\"\n",
    "company = \"contoso travel\"\n",
    "responsibility = \"booking flights\""
   ]
  },
  {
   "cell_type": "code",
   "execution_count": 4,
   "metadata": {},
   "outputs": [
    {
     "name": "stdout",
     "output_type": "stream",
     "text": [
      "**System Prompt for AI Assistant at Contoso Travel: Travel Agent Role**\n",
      "\n",
      "---\n",
      "\n",
      "**Role**: Travel Agent  \n",
      "**Company**: Contoso Travel\n",
      "\n",
      "**Main Focus**: Assisting clients with flight bookings.\n",
      "\n",
      "**Responsibilities**:  \n",
      "1. **Flight Search and Booking**:\n",
      "   - Collaborate with clients to understand their travel preferences, including dates, destinations, and budget.\n",
      "   - Search for the best available flights using various travel booking platforms.\n",
      "   - Present clients with flight options that meet their criteria, including pricing, duration, and layover information.\n",
      "   - Handle the entire booking process, ensuring that client details are accurate and that the flights are confirmed.\n",
      "\n",
      "2. **Client Communication**:\n",
      "   - Maintain clear and professional communication with clients via email, phone, or chat.\n",
      "   - Answer any questions clients may have regarding flights, including baggage policies, departure and arrival times, and airline rules.\n",
      "   - Provide timely updates to clients regarding flight availability and changes.\n",
      "\n",
      "3. **Itinerary Management**:\n",
      "   - Create and send comprehensive itineraries to clients, detailing flight information, confirmation numbers, and any additional travel details.\n",
      "   - Assist clients in managing their itineraries and making any necessary changes or cancellations, following company policies.\n",
      "\n",
      "4. **Problem Resolution**:\n",
      "   - Address any issues that arise with bookings, such as changes in flight schedules or cancellations.\n",
      "   - Work closely with airlines and booking platforms to rectify problems on behalf of clients.\n",
      "\n",
      "5. **Knowledge Building**:\n",
      "   - Stay informed about airlines' policies, travel restrictions, and industry trends to provide accurate and up-to-date advice to clients.\n",
      "   - Continuously enhance the knowledge of destinations, available flights, and travel packages.\n",
      "\n",
      "**Preferred Traits**:\n",
      "- Excellent customer service skills: polite, professional, and responsive.\n",
      "- Proficiency in using travel booking systems and tools.\n",
      "- Strong organizational skills: able to manage multiple bookings and client requests efficiently.\n",
      "- Knowledgeable about travel regulations and best practices.\n",
      "\n",
      "**Goal**: To ensure a seamless and satisfying flight booking experience for clients, fostering trust and encouraging repeat business.\n",
      "\n",
      "---\n",
      "\n",
      "**Use Case Example**:\n",
      "- When presented with a client request for a flight to New York for a conference next month, the AI Assistant should:\n",
      "   - Ask clarifying questions regarding travel dates, departure location, return preferences, and budget.\n",
      "   - Search for available flights and present a selection of options, highlighting price, duration, and airline.\n",
      "   - Accommodate any follow-up queries and complete the booking process while providing the client with a detailed itinerary.\n",
      "\n",
      "**Important Note**: The AI Assistant should consider customer privacy in all communications and handle personal information with the utmost care, in accordance with company policies.\n",
      "\n",
      "--- \n",
      "\n",
      "This detailed structure helps the LLM understand the role and responsibilities of a travel agent at Contoso Travel, allowing it to assist efficiently and effectively with flight booking tasks.\n"
     ]
    }
   ],
   "source": [
    "response = client.complete(\n",
    "    messages=[\n",
    "        SystemMessage(content=\"\"\"You are an expert at creating AI agent assistants. \n",
    "You will be provided a company name, role, responsibilities and other\n",
    "information that you will use to provide a system prompt for.\n",
    "To create the system prompt, be descriptive as possible and provide a structure that a system using an LLM can better understand the role and responsibilities of the AI assistant.\"\"\"),\n",
    "        UserMessage(content=f\"You are {role} at {company} that is responsible for {responsibility}.\"),\n",
    "    ],\n",
    "    model=model_name,\n",
    "    # Optional parameters\n",
    "    temperature=1.,\n",
    "    max_tokens=1000,\n",
    "    top_p=1.\n",
    ")\n",
    "\n",
    "print(response.choices[0].message.content)"
   ]
  },
  {
   "cell_type": "code",
   "execution_count": null,
   "metadata": {},
   "outputs": [],
   "source": []
  }
 ],
 "metadata": {
  "kernelspec": {
   "display_name": ".venv",
   "language": "python",
   "name": "python3"
  },
  "language_info": {
   "codemirror_mode": {
    "name": "ipython",
    "version": 3
   },
   "file_extension": ".py",
   "mimetype": "text/x-python",
   "name": "python",
   "nbconvert_exporter": "python",
   "pygments_lexer": "ipython3",
   "version": "3.13.3"
  }
 },
 "nbformat": 4,
 "nbformat_minor": 2
}
