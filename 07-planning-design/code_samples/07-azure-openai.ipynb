{
 "cells": [
  {
   "cell_type": "code",
   "execution_count": 3,
   "metadata": {},
   "outputs": [],
   "source": [
    "from pydantic import BaseModel\n",
    "from enum import Enum\n",
    "from typing import List, Optional, Union\n",
    "\n",
    "class AgentEnum(str, Enum):\n",
    "    FlightBooking = \"flight_booking\"\n",
    "    HotelBooking = \"hotel_booking\"\n",
    "    CarRental = \"car_rental\"\n",
    "    ActivitiesBooking = \"activities_booking\"\n",
    "    DestinationInfo = \"destination_info\"\n",
    "    DefaultAgent = \"default_agent\"\n",
    "    GroupChatManager = \"group_chat_manager\"\n",
    "\n",
    "# Travel SubTask Model\n",
    "class TravelSubTask(BaseModel):\n",
    "    task_details: str\n",
    "    assigned_agent: AgentEnum # we want to assign the task to the agent\n",
    "\n",
    "class TravelPlan(BaseModel):\n",
    "    main_task: str\n",
    "    subtasks: List[TravelSubTask]\n",
    "    is_greeting: bool\n"
   ]
  },
  {
   "cell_type": "code",
   "execution_count": 4,
   "metadata": {},
   "outputs": [
    {
     "data": {
      "text/plain": [
       "True"
      ]
     },
     "execution_count": 4,
     "metadata": {},
     "output_type": "execute_result"
    }
   ],
   "source": [
    "from dotenv import load_dotenv\n",
    "\n",
    "load_dotenv()"
   ]
  },
  {
   "cell_type": "code",
   "execution_count": 5,
   "metadata": {},
   "outputs": [],
   "source": [
    "import json\n",
    "import os\n",
    "from typing import Optional\n",
    "\n",
    "from autogen_core.models import UserMessage, SystemMessage, AssistantMessage\n",
    "from autogen_ext.models.openai import AzureOpenAIChatCompletionClient\n",
    "\n",
    "\n",
    "# Function to get environment variable and ensure it is not None\n",
    "def get_env_variable(name: str) -> str:\n",
    "    value = os.getenv(name)\n",
    "    if value is None:\n",
    "        raise ValueError(f\"Environment variable {name} is not set\")\n",
    "    return value\n",
    "\n",
    "\n",
    "# Create the client with type-checked environment variables\n",
    "client = AzureOpenAIChatCompletionClient(\n",
    "    azure_deployment=get_env_variable(\"AZURE_OPENAI_CHAT_DEPLOYMENT_NAME\"),\n",
    "    model=get_env_variable(\"AZURE_OPENAI_CHAT_DEPLOYMENT_NAME\"),\n",
    "    api_version=get_env_variable(\"AZURE_OPENAI_API_VERSION\"),\n",
    "    azure_endpoint=get_env_variable(\"AZURE_OPENAI_ENDPOINT\"),\n",
    "    api_key=get_env_variable(\"AZURE_OPENAI_API_KEY\"),\n",
    ")"
   ]
  },
  {
   "cell_type": "code",
   "execution_count": 6,
   "metadata": {},
   "outputs": [
    {
     "name": "stdout",
     "output_type": "stream",
     "text": [
      "{'is_greeting': False,\n",
      " 'main_task': 'Travel Plan for Family Trip from Singapore to Melbourne',\n",
      " 'subtasks': [{'assigned_agent': 'flight_booking',\n",
      "               'task_details': 'Book flights from Singapore to Melbourne for a '\n",
      "                               'family of 4 (2 adults, 2 kids).'},\n",
      "              {'assigned_agent': 'hotel_booking',\n",
      "               'task_details': 'Find and book a family-friendly hotel in '\n",
      "                               'Melbourne.'},\n",
      "              {'assigned_agent': 'car_rental',\n",
      "               'task_details': 'Book a rental car for airport pickup and '\n",
      "                               'exploring Melbourne.'},\n",
      "              {'assigned_agent': 'activities_booking',\n",
      "               'task_details': 'Provide information about family-friendly '\n",
      "                               'activities in Melbourne.'},\n",
      "              {'assigned_agent': 'destination_info',\n",
      "               'task_details': 'Provide destination information about '\n",
      "                               'Melbourne, including tips for families.'}]}\n"
     ]
    }
   ],
   "source": [
    "from pprint import pprint\n",
    "# Define the user message\n",
    "messages = [\n",
    "    SystemMessage(content=\"\"\"You are an planner agent.\n",
    "    Your job is to decide which agents to run based on the user's request.\n",
    "    Below are the available agents specialised in different tasks:\n",
    "    - FlightBooking: For booking flights and providing flight information\n",
    "    - HotelBooking: For booking hotels and providing hotel information\n",
    "    - CarRental: For booking cars and providing car rental information\n",
    "    - ActivitiesBooking: For booking activities and providing activity information\n",
    "    - DestinationInfo: For providing information about destinations\n",
    "    - DefaultAgent: For handling general requests\"\"\", source=\"system\"),\n",
    "    UserMessage(content=\"Create a travel plan for a family of 2 kids from Singapore to Melbourne\", source=\"user\"),\n",
    "]\n",
    "\n",
    "\n",
    "response = await client.create(messages=messages, extra_create_args={\"response_format\": TravelPlan})\n",
    "\n",
    "# Ensure the response content is a valid JSON string before loading it\n",
    "response_content: Optional[str] = response.content if isinstance(response.content, str) else None\n",
    "if response_content is None:\n",
    "    raise ValueError(\"Response content is not a valid JSON string\")\n",
    "\n",
    "# Print the response content after loading it as JSON\n",
    "pprint(json.loads(response_content))\n",
    "\n",
    "# Validate the response content with the MathReasoning model\n",
    "# TravelPlan.model_validate(json.loads(response_content))"
   ]
  },
  {
   "cell_type": "code",
   "execution_count": null,
   "metadata": {},
   "outputs": [],
   "source": []
  }
 ],
 "metadata": {
  "kernelspec": {
   "display_name": "Python 3",
   "language": "python",
   "name": "python3"
  },
  "language_info": {
   "codemirror_mode": {
    "name": "ipython",
    "version": 3
   },
   "file_extension": ".py",
   "mimetype": "text/x-python",
   "name": "python",
   "nbconvert_exporter": "python",
   "pygments_lexer": "ipython3",
   "version": "3.13.3"
  }
 },
 "nbformat": 4,
 "nbformat_minor": 2
}
